{
 "cells": [
  {
   "cell_type": "code",
   "execution_count": null,
   "metadata": {
    "collapsed": false
   },
   "outputs": [],
   "source": [
    "from pymongo import MongoClient\n",
    "import pandas as pd\n",
    "%matplotlib inline\n",
    "import matplotlib.pyplot as plt"
   ]
  },
  {
   "cell_type": "code",
   "execution_count": null,
   "metadata": {
    "collapsed": false
   },
   "outputs": [],
   "source": [
    "def MongoToPandas(collection):\n",
    "    return pd.DataFrame(list(collection.find({})))\n",
    "\n",
    "def CollectDFs(database, verbose=True):\n",
    "    DF = {}\n",
    "    \n",
    "    for db_name in database.collection_names():\n",
    "        DF[db_name] = MongoToPandas(database[db_name])\n",
    "        \n",
    "    if verbose:\n",
    "        print \"Available dataframes:\"\n",
    "        for key in DF.keys(): print key\n",
    "    return DF"
   ]
  },
  {
   "cell_type": "code",
   "execution_count": null,
   "metadata": {
    "collapsed": false
   },
   "outputs": [],
   "source": [
    "cl = MongoClient()\n",
    "db = cl.crypto\n",
    "\n",
    "DFs = CollectDFs(db)"
   ]
  },
  {
   "cell_type": "code",
   "execution_count": null,
   "metadata": {
    "collapsed": false
   },
   "outputs": [],
   "source": [
    "pd.set_option('precision',20)\n",
    "\n",
    "# insert average values\n",
    "for cur in DFs.keys():\n",
    "    DFs['{}'.format(cur)]['mean_HL'] = DFs['{}'.format(cur)][['high', 'low']].mean(axis=1)\n",
    "    DFs['{}'.format(cur)]['mean_OC'] = DFs['{}'.format(cur)][['close', 'open']].mean(axis=1)"
   ]
  },
  {
   "cell_type": "code",
   "execution_count": null,
   "metadata": {
    "collapsed": false
   },
   "outputs": [],
   "source": [
    "# plot\n",
    "\n",
    "# choose cryptocurrency\n",
    "cur = 'XLM'\n",
    "\n",
    "fig, axes = plt.subplots(nrows=2, ncols=2, figsize=(12,12))\n",
    "xlim = None # set to [x1, x2] for different x range\n",
    "\n",
    "DFs['{}'.format(cur)].mean_HL.plot(ax=axes[0,0], title='{}: Average high-low'.format(cur), xlim=xlim)\n",
    "DFs['{}'.format(cur)].mean_OC.plot(ax=axes[0,1], title='{}: Average open-close'.format(cur), xlim=xlim)\n",
    "DFs['{}'.format(cur)].volumefrom.plot(ax=axes[1,0], title='{}: Volume from'.format(cur), xlim=xlim)\n",
    "DFs['{}'.format(cur)].volumeto.plot(ax=axes[1,1], title='{}: Volume to'.format(cur), xlim=xlim)"
   ]
  },
  {
   "cell_type": "code",
   "execution_count": null,
   "metadata": {
    "collapsed": false
   },
   "outputs": [],
   "source": [
    "# correlations (work in progress...)\n",
    "\n",
    "DFs['XLM'].corrwith(DFs['USDT'])"
   ]
  },
  {
   "cell_type": "code",
   "execution_count": null,
   "metadata": {
    "collapsed": true
   },
   "outputs": [],
   "source": []
  }
 ],
 "metadata": {
  "kernelspec": {
   "display_name": "Python 2",
   "language": "python",
   "name": "python2"
  },
  "language_info": {
   "codemirror_mode": {
    "name": "ipython",
    "version": 2
   },
   "file_extension": ".py",
   "mimetype": "text/x-python",
   "name": "python",
   "nbconvert_exporter": "python",
   "pygments_lexer": "ipython2",
   "version": "2.7.12"
  }
 },
 "nbformat": 4,
 "nbformat_minor": 0
}
