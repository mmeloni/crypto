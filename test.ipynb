{
 "cells": [
  {
   "cell_type": "code",
   "execution_count": 24,
   "metadata": {},
   "outputs": [],
   "source": [
    "import httplib\n",
    "import json\n",
    "import sys\n",
    "import time\n",
    "\n",
    "from pymongo import MongoClient"
   ]
  },
  {
   "cell_type": "code",
   "execution_count": 30,
   "metadata": {},
   "outputs": [],
   "source": [
    "#cur = raw_input(\"Currency name:\")\n",
    "cur = \"XLM\"#coin name\n",
    "limit = 23 #number of requested results\n",
    "aggregate = 1 #Interval number. Ex 1 aggregate and 23 limit results in one entry for every hour of a day\n",
    "dateTo = int(time.mktime(time.strptime('01/01/2018', '%m/%d/%Y'))) #date to\n"
   ]
  },
  {
   "cell_type": "code",
   "execution_count": 31,
   "metadata": {},
   "outputs": [
    {
     "name": "stdout",
     "output_type": "stream",
     "text": [
      "/data/histohour?fsym=XLM&tsym=BTC&limit=23&aggregate=1&e=bittrex&toTs=1514761200\n",
      "24\n"
     ]
    }
   ],
   "source": [
    "qs = \"/data/histohour?fsym=\"+cur+\"&tsym=BTC&limit=\"+str(limit)+\"&aggregate=\"+str(aggregate)+\"&e=bittrex&toTs=\"+str(dateTo)\n",
    "conn = httplib.HTTPSConnection(\"min-api.cryptocompare.com\")\n",
    "conn.request(\"GET\", qs)\n",
    "print qs\n",
    "r= conn.getresponse()\n",
    "data = r.read()\n",
    "jsondata = json.loads(data)\n",
    "print len(jsondata['Data'])"
   ]
  },
  {
   "cell_type": "code",
   "execution_count": 32,
   "metadata": {},
   "outputs": [
    {
     "name": "stdout",
     "output_type": "stream",
     "text": [
      "24\n"
     ]
    }
   ],
   "source": [
    "\n",
    "cl = MongoClient()\n",
    "db = cl.crypto\n",
    "db[cur].delete_many({})\n",
    "counter = 0\n",
    "\n",
    "\n",
    "for ele in jsondata['Data']:\n",
    "    counter = counter +1\n",
    "    db[cur].insert_one(ele)\n",
    "\n",
    "print len(jsondata['Data'])\n",
    "    \n"
   ]
  },
  {
   "cell_type": "code",
   "execution_count": null,
   "metadata": {},
   "outputs": [],
   "source": []
  }
 ],
 "metadata": {
  "kernelspec": {
   "display_name": "Python 2",
   "language": "python",
   "name": "python2"
  },
  "language_info": {
   "codemirror_mode": {
    "name": "ipython",
    "version": 2
   },
   "file_extension": ".py",
   "mimetype": "text/x-python",
   "name": "python",
   "nbconvert_exporter": "python",
   "pygments_lexer": "ipython2",
   "version": "2.7.14"
  }
 },
 "nbformat": 4,
 "nbformat_minor": 2
}
