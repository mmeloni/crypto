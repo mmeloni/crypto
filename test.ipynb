{
 "cells": [
  {
   "cell_type": "code",
   "execution_count": 35,
   "metadata": {},
   "outputs": [],
   "source": [
    "import httplib\n",
    "import json\n",
    "import sys\n",
    "\n",
    "from pymongo import MongoClient"
   ]
  },
  {
   "cell_type": "code",
   "execution_count": 89,
   "metadata": {},
   "outputs": [
    {
     "name": "stdout",
     "output_type": "stream",
     "text": [
      "Currency name:XRP\n"
     ]
    }
   ],
   "source": [
    "cur = raw_input(\"Currency name:\")\n",
    "hours = 2000"
   ]
  },
  {
   "cell_type": "code",
   "execution_count": 90,
   "metadata": {},
   "outputs": [],
   "source": [
    "conn = httplib.HTTPSConnection(\"min-api.cryptocompare.com\")\n",
    "conn.request(\"GET\", \"/data/histohour?fsym=\"+cur+\"&tsym=BTC&limit=\"+str(hours)+\"&aggregate=3&e=BitTrex&allData=1\")\n",
    "r= conn.getresponse()\n",
    "data = r.read()\n",
    "jsondata = json.loads(data)"
   ]
  },
  {
   "cell_type": "code",
   "execution_count": 91,
   "metadata": {},
   "outputs": [
    {
     "name": "stdout",
     "output_type": "stream",
     "text": [
      "8843\n"
     ]
    }
   ],
   "source": [
    "\n",
    "cl = MongoClient()\n",
    "db[cur].delete_many({})\n",
    "counter = 0\n",
    "for ele in jsondata['Data']:\n",
    "    counter = counter +1\n",
    "    db[cur].insert_one(ele)\n",
    "\n",
    "print counter\n",
    "    \n"
   ]
  },
  {
   "cell_type": "code",
   "execution_count": null,
   "metadata": {},
   "outputs": [],
   "source": []
  }
 ],
 "metadata": {
  "kernelspec": {
   "display_name": "Python 2",
   "language": "python",
   "name": "python2"
  },
  "language_info": {
   "codemirror_mode": {
    "name": "ipython",
    "version": 2
   },
   "file_extension": ".py",
   "mimetype": "text/x-python",
   "name": "python",
   "nbconvert_exporter": "python",
   "pygments_lexer": "ipython2",
   "version": "2.7.14"
  }
 },
 "nbformat": 4,
 "nbformat_minor": 2
}
